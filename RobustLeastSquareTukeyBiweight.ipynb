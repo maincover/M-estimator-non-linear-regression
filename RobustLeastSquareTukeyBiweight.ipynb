{
 "cells": [
  {
   "cell_type": "markdown",
   "metadata": {},
   "source": [
    "# Source link\n",
    "* Outlier: In linear regression, an outlier is an observation with large residual. In other words, it is an observation whose dependent-variable value is unusual given its value on the predictor variables. An outlier may indicate a sample peculiarity or may indicate a data entry error or other problem.\n",
    "\n",
    "### 1, code of TukeyBiweight : https://www.statsmodels.org/stable/_modules/statsmodels/robust/norms.html#TukeyBiweight\n",
    "\n",
    "### 2, M-Estimator rho function\n",
    "* http://www.statisticalconsultants.co.nz/blog/m-estimators.html\n",
    "* The lower p is, the more robust the Lp will be to outliers.  The lower p is, the greater the number of iterations would be needed for the sum of |r|p to converge at the minimum.\n",
    "* where s is the estimated scale parameter. The smaller Scale is, the more robust to outliers, we pick initial scale value of 0.02 or 0.03\n",
    "\n",
    "### 3, Robust Regression, Iterative Reweighted Least Squares\n",
    "* http://www.karlin.mff.cuni.cz/~pesta/NMFM404/robust.html\n",
    "* some source code, https://github.com/jingweihaha/irls-in-machine-learning/\n",
    "\n",
    "### 4, ROBUST ANALYSIS OF M-ESTIMATORS OF NONLINEAR MODELS\n",
    "* https://pdfs.semanticscholar.org/5488/ce2a74c17d978a6cccfaed2304fa7766cc5e.pdf\n",
    "\n",
    "### 5, Non weighted non-linear regression\n",
    "* https://www.youtube.com/watch?v=7V9KP7BkO1M&t=1109s\n",
    "\n",
    "### 6, M-estimator can be transformed to weighted linear regression\n",
    "* https://www.youtube.com/watch?v=7a_6roLjwaA&t=952s\n",
    "\n",
    "### 7, weighted linear and non linear regression\n",
    "* https://en.wikipedia.org/wiki/Weighted_least_squares\n",
    "* for non-linear regression, the jacobian matrix will replace the X\n",
    "\n",
    "### 8, robust regression python example\n",
    "* https://scipy-cookbook.readthedocs.io/items/robust_regression.html\n",
    "* http://lagrange.univ-lyon1.fr/docs/scipy/0.17.1/generated/scipy.optimize.least_squares.html\n",
    "\n",
    "### 9, IRLS\n",
    "* http://onlinelibrary.wiley.com/doi/10.1002/cpa.20303/full\n",
    "* https://pdfs.semanticscholar.org/9b92/18e7233f4d0b491e1582c893c9a099470a73.pdf\n",
    "* https://pdfs.semanticscholar.org/2dd3/a6a3175ad3e40c1d825cd160528a3632910e.pdf\n",
    "* http://www.cedar.buffalo.edu/~srihari/CSE574/Chap4/4.3.3-IRLS.pdf\n",
    "* http://www2.maths.lth.se/matematiklth/personal/fredrik/Session3.pdf\n",
    "* http://www.tandfonline.com/doi/abs/10.1080/03610927708827533\n",
    "* http://ieeexplore.ieee.org/abstract/document/4518498/"
   ]
  },
  {
   "cell_type": "code",
   "execution_count": 1,
   "metadata": {},
   "outputs": [],
   "source": [
    "# Other weight can be found from \n",
    "# https://www.statsmodels.org/stable/_modules/statsmodels/robust/norms.html#TukeyBiweight\n",
    "class TukeyBiweight():\n",
    "    \"\"\"\n",
    "\n",
    "    Tukey's biweight function for M-estimation.\n",
    "\n",
    "    Parameters\n",
    "    ----------\n",
    "    c : float, optional\n",
    "        The tuning constant for Tukey's Biweight.  The default value is\n",
    "        c = 4.685.\n",
    "\n",
    "    Notes\n",
    "    -----\n",
    "    Tukey's biweight is sometime's called bisquare.\n",
    "    \"\"\"\n",
    "\n",
    "    def __init__(self, c=4.685):\n",
    "        self.c = c\n",
    "\n",
    "    def _subset(self, z):\n",
    "        \"\"\"\n",
    "        Tukey's biweight is defined piecewise over the range of z\n",
    "        \"\"\"\n",
    "        z = np.abs(np.asarray(z))\n",
    "        return np.less_equal(z, self.c)\n",
    "\n",
    "    def rho(self, z):\n",
    "        r\"\"\"\n",
    "        The robust criterion function for Tukey's biweight estimator\n",
    "\n",
    "        Parameters\n",
    "        ----------\n",
    "        z : array_like\n",
    "            1d array\n",
    "\n",
    "        Returns\n",
    "        -------\n",
    "        rho : ndarray\n",
    "            rho(z) = -(1 - (z/c)**2)**3 * c**2/6.   for \\|z\\| <= R\n",
    "\n",
    "            rho(z) = 0                              for \\|z\\| > R\n",
    "        \"\"\"\n",
    "        subset = self._subset(z)\n",
    "        return -(1 - (z / self.c)**2)**3 * subset * self.c**2 / 6.\n",
    "\n",
    "\n",
    "    def psi(self, z):\n",
    "        r\"\"\"\n",
    "        The psi function for Tukey's biweight estimator\n",
    "\n",
    "        The analytic derivative of rho\n",
    "\n",
    "        Parameters\n",
    "        ----------\n",
    "        z : array_like\n",
    "            1d array\n",
    "\n",
    "        Returns\n",
    "        -------\n",
    "        psi : ndarray\n",
    "            psi(z) = z*(1 - (z/c)**2)**2        for \\|z\\| <= R\n",
    "\n",
    "            psi(z) = 0                           for \\|z\\| > R\n",
    "        \"\"\"\n",
    "\n",
    "        z = np.asarray(z)\n",
    "        subset = self._subset(z)\n",
    "        return z * (1 - (z / self.c)**2)**2 * subset\n",
    "\n",
    "\n",
    "    def weights(self, z):\n",
    "        r\"\"\"\n",
    "        Tukey's biweight weighting function for the IRLS algorithm\n",
    "\n",
    "        The psi function scaled by z\n",
    "\n",
    "        Parameters\n",
    "        ----------\n",
    "        z : array_like\n",
    "            1d array\n",
    "\n",
    "        Returns\n",
    "        -------\n",
    "        weights : ndarray\n",
    "            psi(z) = (1 - (z/c)**2)**2          for \\|z\\| <= R\n",
    "\n",
    "            psi(z) = 0                          for \\|z\\| > R\n",
    "        \"\"\"\n",
    "\n",
    "        subset = self._subset(z)\n",
    "        return (1 - (z / self.c)**2)**2 * subset\n",
    "\n",
    "\n",
    "    def psi_deriv(self, z):\n",
    "        \"\"\"\n",
    "        The derivative of Tukey's biweight psi function\n",
    "\n",
    "        Notes\n",
    "        -----\n",
    "        Used to estimate the robust covariance matrix.\n",
    "        \"\"\"\n",
    "        subset = self._subset(z)\n",
    "        return subset * ((1 - (z/self.c)**2)**2\n",
    "                         - (4*z**2/self.c**2) * (1-(z/self.c)**2))\n",
    "    \n",
    "    # Be called by least_square function of scipy\n",
    "    # If callable, it must take a 1-d ndarray z=f**2 and return an array_like with shape (3, m) \n",
    "    # where row 0 contains function values, \n",
    "    # row 1 contains first derivatives and \n",
    "    # row 2 contains second derivatives. \n",
    "    # Method ‘lm’ supports only ‘linear’ loss.\n",
    "    \n",
    "    def loss(self,z):\n",
    "        return np.array([self.rho(z),self.psi(z),self.psi_deriv(z)])"
   ]
  },
  {
   "cell_type": "code",
   "execution_count": 2,
   "metadata": {},
   "outputs": [],
   "source": [
    "# Can be useful for future step\n",
    "def estimate_location(a, scale, norm=None, axis=0, initial=None,\n",
    "                      maxiter=30, tol=1.0e-06):\n",
    "    \"\"\"\n",
    "    M-estimator of location using self.norm and a current\n",
    "    estimator of scale.\n",
    "\n",
    "    This iteratively finds a solution to\n",
    "\n",
    "    norm.psi((a-mu)/scale).sum() == 0\n",
    "\n",
    "    Parameters\n",
    "    ----------\n",
    "    a : ndarray\n",
    "        Array over which the location parameter is to be estimated\n",
    "    scale : ndarray\n",
    "        Scale parameter to be used in M-estimator\n",
    "    norm : RobustNorm, optional\n",
    "        Robust norm used in the M-estimator.  The default is HuberT().\n",
    "    axis : int, optional\n",
    "        Axis along which to estimate the location parameter.  The default is 0.\n",
    "    initial : ndarray, optional\n",
    "        Initial condition for the location parameter.  Default is None, which\n",
    "        uses the median of a.\n",
    "    niter : int, optional\n",
    "        Maximum number of iterations.  The default is 30.\n",
    "    tol : float, optional\n",
    "        Toleration for convergence.  The default is 1e-06.\n",
    "\n",
    "    Returns\n",
    "    -------\n",
    "    mu : ndarray\n",
    "        Estimate of location\n",
    "    \"\"\"\n",
    "    if norm is None:\n",
    "        norm = TukeyBiweight()\n",
    "\n",
    "    if initial is None:\n",
    "        mu = np.median(a, axis)\n",
    "    else:\n",
    "        mu = initial\n",
    "\n",
    "    for iter in range(maxiter):\n",
    "        W = norm.weights((a-mu)/scale)\n",
    "        nmu = np.sum(W*a, axis) / np.sum(W, axis)\n",
    "        if np.alltrue(np.less(np.abs(mu - nmu), scale * tol)):\n",
    "            return nmu\n",
    "        else:\n",
    "            mu = nmu\n",
    "    raise ValueError(\"location estimator failed to converge in %d iterations\"\n",
    "                     % maxiter)"
   ]
  },
  {
   "cell_type": "code",
   "execution_count": 49,
   "metadata": {},
   "outputs": [],
   "source": [
    "# Un example of loss of TukeyBiweight with real loss numbers\n",
    "# Linear functior which gives a standard least squares: ρ(z)=z.\n",
    "# Huber loss: ρ(z)={zz√−1z≤1z>1\n",
    "# Smooth approximation to absolute value loss, \"soft l1 loss\": ρ(z)=2(1+z‾‾‾‾‾√−1)\n",
    "# Cauchy loss: ρ(z)=ln(1+z).\n",
    "# Loss by arctan: ρ(z)=arctanz.\n",
    "\n",
    "import numpy as np\n",
    "tB = TukeyBiweight()\n",
    "z = np.linspace(0,5,30)\n",
    "m_loss = tB.loss(z)\n",
    "\n"
   ]
  },
  {
   "cell_type": "code",
   "execution_count": 8,
   "metadata": {},
   "outputs": [
    {
     "data": {
      "image/png": "[encoded data removed]",
      "text/plain": [
       "<Figure size 1440x360 with 3 Axes>"
      ]
     },
     "metadata": {
      "needs_background": "light"
     },
     "output_type": "display_data"
    }
   ],
   "source": [
    "import matplotlib.pyplot as plt\n",
    "%matplotlib inline\n",
    "\n",
    "# Plot method can be found http://www.statsmodels.org/devel/examples/notebooks/generated/robust_models_1.html\n",
    "def plot_weights(support, weights_func, xlabels, xticks,sub,fig):\n",
    "    ax = fig.add_subplot(sub)\n",
    "    ax.plot(support, weights_func(support))\n",
    "    ax.set_xticks(xticks)\n",
    "    ax.set_xticklabels(xlabels, fontsize=16)\n",
    "    #ax.set_ylim(-.1, 1.1)\n",
    "    return ax\n",
    "\n",
    "c = 4.685\n",
    "support = np.linspace(-3*c, 3*c, 1000)\n",
    "tukey = TukeyBiweight(c=c)\n",
    "fig = plt.figure(figsize=(20,5))\n",
    "plot_weights(support, tukey.rho, ['-3*c', '0', '3*c'], [-3*c, 0, 3*c],131,fig);\n",
    "plot_weights(support, tukey.psi, ['-3*c', '0', '3*c'], [-3*c, 0, 3*c],132,fig);\n",
    "plot_weights(support, tukey.weights, ['-3*c', '0', '3*c'], [-3*c, 0, 3*c],133,fig);"
   ]
  },
  {
   "cell_type": "code",
   "execution_count": 11,
   "metadata": {},
   "outputs": [],
   "source": [
    "# define the Michaelis–Menten model for enzyme kinetics has two parameters and one independent variable, related by f \n",
    "# as callable fun \n",
    "# x0 Vmax\n",
    "# x1 Km\n",
    "def fun(x, t, y):\n",
    "    return x[0] *np.asarray(t)/ (x[1] + np.asarray(t)) - y"
   ]
  },
  {
   "cell_type": "markdown",
   "metadata": {},
   "source": [
    "## M-Estimator\n",
    "### Define function of the weight psi/z\n",
    "### Solve the equation of least square\n",
    "### Guess the weights, W0, fit to get B0 , then calculate Residual, use those residuals to calculate new weights, in M-estimator, the new weight = psi/r. Then re-fit to get B1, repeat until B converge.\n",
    "\n",
    "\n",
    "def IRLS(y, X, maxiter, w_init=1, d=0.0001, tolerance=0.001):\n",
    "    n, p = X.shape\n",
    "    # 生成数组，其中repeat函数生成n个d，reshape函数将一维数组变成二维数组，\n",
    "    # 一行n列的数组\n",
    "    delta = array(repeat(d, n)).reshape(1, n)\n",
    "    # w是n个1的数组\n",
    "    w = repeat(1, n)\n",
    "    # W是对角线上为w的对角矩阵\n",
    "    W = diag(w)\n",
    "    z = inv(W).dot(y)\n",
    "    B = dot(inv(X.T.dot(W).dot(X)),\n",
    "            (X.T.dot(W).dot(z)))\n",
    "    for _ in range(maxiter):\n",
    "        _B = B\n",
    "        _w = abs(y - X.dot(B)).T\n",
    "        # w = float(1) / maximum(delta, _w)\n",
    "        tmpx = X.dot(B)\n",
    "\n",
    "        tmpxx = tmpx * (1 - tmpx)\n",
    "        tmpxxx = tmpxx.reshape(1, 99)\n",
    "        W = diag(tmpxxx[0])\n",
    "        z = X.dot(B) - inv(W).dot(X.dot(B) - y)\n",
    "        B = dot(inv(X.T.dot(W).dot(X)),\n",
    "                (X.T.dot(W).dot(z)))\n",
    "        tol = sum(abs(B - _B))\n",
    "        print(\"Tolerance = %s\" % tol)\n",
    "        if tol < tolerance:\n",
    "            return B\n",
    "    return B"
   ]
  },
  {
   "cell_type": "code",
   "execution_count": 12,
   "metadata": {},
   "outputs": [],
   "source": [
    "# Generate noised function data with possible outliers\n",
    "def generate_data(t, Vmax, Km, noise=0, n_outliers=0, random_state=0):\n",
    "    y = Vmax * t / (Km + t)\n",
    "    rnd = np.random.RandomState(random_state)\n",
    "    error = noise * rnd.randn(t.size)\n",
    "    outliers = rnd.randint(0, t.size, n_outliers)\n",
    "    error[outliers] *= 10\n",
    "    return y + error\n",
    "\n"
   ]
  },
  {
   "cell_type": "code",
   "execution_count": 13,
   "metadata": {},
   "outputs": [],
   "source": [
    "# Generate noised dataset from given parameters\n",
    "Vmax = 0.362\n",
    "Km = 0.556\n",
    "x_true = np.array([Vmax, Km])\n"
   ]
  },
  {
   "cell_type": "markdown",
   "metadata": {},
   "source": [
    "# Input your trainning dataset"
   ]
  },
  {
   "cell_type": "code",
   "execution_count": 59,
   "metadata": {},
   "outputs": [
    {
     "data": {
      "image/png": "[encoded data removed]",
      "text/plain": [
       "<Figure size 432x288 with 1 Axes>"
      ]
     },
     "metadata": {
      "needs_background": "light"
     },
     "output_type": "display_data"
    }
   ],
   "source": [
    "# Generated dataset with noise and outliers \n",
    "# Can be replaced by User's own dataset\n",
    "noise = 0.02\n",
    "t_min = 0\n",
    "t_max = 5\n",
    "t_train = np.linspace(t_min, t_max, 30)\n",
    "y_train = generate_data(t_train, Vmax,Km, noise=noise, n_outliers=5)\n",
    "plt.plot(t_train, y_train, 'o', label='data')\n",
    "plt.xlabel('$t$')\n",
    "plt.ylabel('$y$')\n",
    "plt.legend();"
   ]
  },
  {
   "cell_type": "code",
   "execution_count": 34,
   "metadata": {},
   "outputs": [
    {
     "data": {
      "image/png": "[encoded data removed]",
      "text/plain": [
       "<Figure size 432x288 with 1 Axes>"
      ]
     },
     "metadata": {
      "needs_background": "light"
     },
     "output_type": "display_data"
    }
   ],
   "source": [
    "# Another dataset from wiki\n",
    "Vmax = 0.362\n",
    "Km = 0.556\n",
    "x_true = np.array([Vmax, Km])\n",
    "t_min =0\n",
    "t_max = 30\n",
    "t_train = [0,0.1172,0.2343,0.46875,0.9375,1.875,3.75,7.5,15,30]\n",
    "y_train0 = [0,2.2867,3.6903,5.8673,9.5014,12.5154,17.1398,22.6396,27.1287,28.6677]\n",
    "y_train1 = [0,0.2935,0.9341,1.6512,2.5598,4.5555,6.8907,10.3054,13.5848,16.9332]\n",
    "y_train2 = [0,0.0919,0.0561,0.9213,1.7992,3.0319,4.3743,7.2046,9.8460,13.4980]\n",
    "y_train3 = [0,0.1046,0.4288,0.0332,0.4620,2.1106,1.2556,3.9813,6.2016,9.8052]\n",
    "y_train4 = [0,0.0842,0.4645,-0.0102,0.2705,0.6840,0.9723,2.4348,3.5143,6.9112]\n",
    "\n",
    "y_train = y_train0\n",
    "\n",
    "t_max = 45\n",
    "t_train = [0,1,2,3,4,5,10,15,20]\n",
    "y_train = [-0.6443,2.4755,5.2987,7.9352,7.8504,10.1606,12.4751,13.2635,13.8483]\n",
    "\n",
    "t_train = [0,0.5,1,2,2.5,3,4,6,8,12,16,20]\n",
    "y_train = [0,4.361E-01,6.322E-01,1.048E+00,1.085E+00,1.338E+00,1.298E+00,1.562E+00,1.845E+00,1.962E+00,2.08E+00,2.202E+00]\n",
    "y_train = np.asarray(y_train) + 0.6443\n",
    "\n",
    "plt.plot(t_train, y_train, 'o', label='data')\n",
    "plt.xlabel('$t$')\n",
    "plt.ylabel('$y$')\n",
    "plt.legend();"
   ]
  },
  {
   "cell_type": "code",
   "execution_count": 60,
   "metadata": {},
   "outputs": [],
   "source": [
    "# initial value is very important\n",
    "import numpy as np\n",
    "x0 = np.ones(2)\n"
   ]
  },
  {
   "cell_type": "code",
   "execution_count": 61,
   "metadata": {},
   "outputs": [],
   "source": [
    "from scipy.optimize import least_squares"
   ]
  },
  {
   "cell_type": "code",
   "execution_count": 62,
   "metadata": {},
   "outputs": [
    {
     "name": "stdout",
     "output_type": "stream",
     "text": [
      "[0.34285593 0.21677403]\n"
     ]
    }
   ],
   "source": [
    "res_lsq = least_squares(fun, x0, args=(t_train, y_train))\n",
    "# set initialised x0 by least square\n",
    "x0 = res_lsq.x\n",
    "print(x0)"
   ]
  },
  {
   "cell_type": "code",
   "execution_count": 63,
   "metadata": {},
   "outputs": [
    {
     "name": "stdout",
     "output_type": "stream",
     "text": [
      "[0.34285593 0.21677403]\n"
     ]
    }
   ],
   "source": [
    "res_robust_scipy = least_squares(fun, x0, loss='huber', f_scale=0.1, args=(t_train, y_train))\n",
    "print(x0)"
   ]
  },
  {
   "cell_type": "code",
   "execution_count": 64,
   "metadata": {},
   "outputs": [
    {
     "name": "stdout",
     "output_type": "stream",
     "text": [
      "[0.3566021  0.37381736]\n"
     ]
    }
   ],
   "source": [
    "res_robust = least_squares(fun, x0, loss=tB.loss, f_scale=0.1, args=(t_train, y_train))\n",
    "print(res_robust.x)"
   ]
  },
  {
   "cell_type": "code",
   "execution_count": 65,
   "metadata": {},
   "outputs": [],
   "source": [
    "# y_test y of ground truth curve\n",
    "t_test = np.linspace(t_min, t_max, 300)\n",
    "y_test = generate_data(t_test, Vmax, Km)\n",
    "\n",
    "# y_lsq : fitted y value from method of least square, \n",
    "# y_robust : fitted y value from method of robust regression\n",
    "# robust regression weight can be defined with l1 soft or Huber T or callable fun\n",
    "\n",
    "y_lsq = generate_data(t_test, *res_lsq.x)\n",
    "y_robust = generate_data(t_test, *res_robust.x)"
   ]
  },
  {
   "cell_type": "code",
   "execution_count": 70,
   "metadata": {},
   "outputs": [
    {
     "data": {
      "image/png": "[encoded data removed]",
      "text/plain": [
       "<Figure size 432x288 with 1 Axes>"
      ]
     },
     "metadata": {
      "needs_background": "light"
     },
     "output_type": "display_data"
    }
   ],
   "source": [
    "# Compare diffrent method \n",
    "plt.plot(t_train, y_train, 'o', label='Biased data')\n",
    "plt.plot(t_test, y_test, label='True')\n",
    "plt.plot(t_test, y_lsq, label='OLS')\n",
    "plt.plot(t_test, y_robust, label='Robust Regression')\n",
    "plt.xlabel('$t$')\n",
    "plt.ylabel('$y$')\n",
    "plt.legend();"
   ]
  },
  {
   "cell_type": "code",
   "execution_count": 58,
   "metadata": {
    "scrolled": true
   },
   "outputs": [
    {
     "ename": "SyntaxError",
     "evalue": "Missing parentheses in call to 'print'. Did you mean print(res_lsq.x)? (<ipython-input-58-cc9f44183669>, line 1)",
     "output_type": "error",
     "traceback": [
      "\u001b[0;36m  File \u001b[0;32m\"<ipython-input-58-cc9f44183669>\"\u001b[0;36m, line \u001b[0;32m1\u001b[0m\n\u001b[0;31m    print res_lsq.x\u001b[0m\n\u001b[0m                ^\u001b[0m\n\u001b[0;31mSyntaxError\u001b[0m\u001b[0;31m:\u001b[0m Missing parentheses in call to 'print'. Did you mean print(res_lsq.x)?\n"
     ]
    }
   ],
   "source": [
    "print res_lsq.x\n",
    "print res_robust.x\n",
    "print x_true"
   ]
  }
 ],
 "metadata": {
  "kernelspec": {
   "display_name": "Python 3",
   "language": "python",
   "name": "python3"
  },
  "language_info": {
   "codemirror_mode": {
    "name": "ipython",
    "version": 3
   },
   "file_extension": ".py",
   "mimetype": "text/x-python",
   "name": "python",
   "nbconvert_exporter": "python",
   "pygments_lexer": "ipython3",
   "version": "3.7.6"
  }
 },
 "nbformat": 4,
 "nbformat_minor": 2
}
